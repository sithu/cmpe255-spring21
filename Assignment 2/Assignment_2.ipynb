{
  "nbformat": 4,
  "nbformat_minor": 0,
  "metadata": {
    "colab": {
      "name": "255 Assignment 2.ipynb",
      "private_outputs": true,
      "provenance": [],
      "collapsed_sections": [],
      "authorship_tag": "ABX9TyPx2m8tfL9S/K1lsgfgW6kz",
      "include_colab_link": true
    },
    "kernelspec": {
      "name": "python3",
      "display_name": "Python 3"
    },
    "language_info": {
      "name": "python"
    }
  },
  "cells": [
    {
      "cell_type": "markdown",
      "metadata": {
        "id": "view-in-github",
        "colab_type": "text"
      },
      "source": [
        "<a href=\"https://colab.research.google.com/github/PRKKILLER/cmpe255-spring21-1/blob/master/Assignment%202/Assignment_2.ipynb\" target=\"_parent\"><img src=\"https://colab.research.google.com/assets/colab-badge.svg\" alt=\"Open In Colab\"/></a>"
      ]
    },
    {
      "cell_type": "code",
      "metadata": {
        "id": "i8U-1XufkmSg"
      },
      "source": [
        "from sklearn.datasets import fetch_lfw_people\n",
        "from sklearn.svm import SVC\n",
        "from sklearn.decomposition import PCA as RandomizedPCA\n",
        "from sklearn.pipeline import make_pipeline\n",
        "from sklearn.svm import SVC\n",
        "import seaborn as sns\n",
        "from sklearn.pipeline import make_pipeline\n",
        "from sklearn import model_selection\n",
        "import numpy as np\n",
        "import matplotlib.pyplot as plt\n",
        "from sklearn import metrics"
      ],
      "execution_count": null,
      "outputs": []
    },
    {
      "cell_type": "code",
      "metadata": {
        "id": "CD0jWoE9kxM0"
      },
      "source": [
        "faces = fetch_lfw_people(min_faces_per_person=60)\n",
        "print('data loaded')\n"
      ],
      "execution_count": null,
      "outputs": []
    },
    {
      "cell_type": "code",
      "metadata": {
        "id": "XOkqgViXk6CF"
      },
      "source": [
        "target_names = faces.target_names\n",
        "n, h, w = faces.images.shape"
      ],
      "execution_count": null,
      "outputs": []
    },
    {
      "cell_type": "code",
      "metadata": {
        "id": "i1VL_vrCm7yy"
      },
      "source": [
        "photos = faces.data\n",
        "labels = faces.target\n",
        "xtrain, xtest, ytrain, ytest = model_selection.train_test_split(photos, labels, test_size=0.25,random_state=42)"
      ],
      "execution_count": null,
      "outputs": []
    },
    {
      "cell_type": "code",
      "metadata": {
        "id": "XadLyIGel0ZY"
      },
      "source": [
        "pca = RandomizedPCA(n_components=150, svd_solver='randomized', whiten=True, random_state=42).fit(xtrain)\n",
        "svc = SVC(kernel='rbf', class_weight='balanced')\n",
        "model = make_pipeline(pca, svc)"
      ],
      "execution_count": null,
      "outputs": []
    },
    {
      "cell_type": "code",
      "metadata": {
        "id": "R_ns5nZnncyH"
      },
      "source": [
        "C = np.logspace(-1, 5, 4)\n",
        "gammas = np.logspace(-3, 0, 4)\n",
        "params = dict(svc__gamma=gammas, svc__C=C)\n",
        "gsv = model_selection.GridSearchCV(model, params)"
      ],
      "execution_count": null,
      "outputs": []
    },
    {
      "cell_type": "code",
      "metadata": {
        "id": "jVFZ328OoZZp"
      },
      "source": [
        "gsv = gsv.fit(xtrain, ytrain)"
      ],
      "execution_count": null,
      "outputs": []
    },
    {
      "cell_type": "code",
      "metadata": {
        "id": "_Tzq1kwYplRv"
      },
      "source": [
        "print(gsv.best_params_)\n",
        "model = gsv.best_estimator_\n",
        "ypred = model.predict(xtest)"
      ],
      "execution_count": null,
      "outputs": []
    },
    {
      "cell_type": "code",
      "metadata": {
        "id": "g7U8iDsWrawZ"
      },
      "source": [
        "print(ypred)"
      ],
      "execution_count": null,
      "outputs": []
    },
    {
      "cell_type": "code",
      "metadata": {
        "id": "dYgFtFldr0LT"
      },
      "source": [
        "r_ind = np.random.choice(xtest.shape[0], size=24, replace=False)\n",
        "photos = xtest[r_ind]\n",
        "labels_actual = ytest[r_ind]\n",
        "labels_pred_sample = ypred[r_ind]\n",
        "names_pred = target_names[labels_pred_sample]\n",
        "names_actual = target_names[labels_actual]\n",
        "print(metrics.classification_report(ytest, ypred, target_names=target_names))"
      ],
      "execution_count": null,
      "outputs": []
    },
    {
      "cell_type": "code",
      "metadata": {
        "id": "rDslZ7t4sWgR"
      },
      "source": [
        "#CONFUSIN MATRIX\n",
        "confusion_matrix = metrics.confusion_matrix(names_pred,names_actual,labels=target_names)\n",
        "print(confusion_matrix)"
      ],
      "execution_count": null,
      "outputs": []
    },
    {
      "cell_type": "code",
      "metadata": {
        "id": "Ec1zuYf9skgF"
      },
      "source": [
        "#HEAT MAP\n",
        "sns.heatmap(confusion_matrix, annot=True)\n",
        "plt.xlabel('Actual')\n",
        "plt.ylabel('Predicted')\n",
        "plt.show(block=True)"
      ],
      "execution_count": null,
      "outputs": []
    },
    {
      "cell_type": "code",
      "metadata": {
        "id": "orYgVPjpvfhn"
      },
      "source": [
        "n_row=4\n",
        "n_col=6\n",
        "fig_title=\"Predictions\"\n",
        "fig = plt.figure(figsize=(1.8 * n_col, 2.4 * n_row))\n",
        "plt.subplots_adjust(bottom=0, left=.01, right=.99, top=.90, hspace=.35)\n",
        "for i in range(n_row * n_col):\n",
        "  ax = fig.add_subplot(n_row, n_col, i + 1)\n",
        "  ax.imshow(photos[i].reshape((h, w)), cmap=plt.cm.gray)\n",
        "  fc = 'black'\n",
        "  if names_pred[i]!=names_actual[i] :\n",
        "    fc = 'red'\n",
        "    title = \"Predicted: \"+names_pred[i]+\"\\nActual: \"+names_actual[i]\n",
        "    ax.set_title(names_pred[i], size=12,color=fc)\n",
        "    plt.xticks(())\n",
        "    plt.yticks(())\n",
        "if fig_title: \n",
        "      fig.suptitle(fig_title+'\\n', fontsize=20)"
      ],
      "execution_count": null,
      "outputs": []
    },
    {
      "cell_type": "code",
      "metadata": {
        "id": "3hEgMHkewU87"
      },
      "source": [
        ""
      ],
      "execution_count": null,
      "outputs": []
    }
  ]
}