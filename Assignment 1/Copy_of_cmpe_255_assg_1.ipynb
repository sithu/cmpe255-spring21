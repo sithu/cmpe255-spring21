{
  "nbformat": 4,
  "nbformat_minor": 0,
  "metadata": {
    "kernelspec": {
      "display_name": "Python 3",
      "language": "python",
      "name": "python3"
    },
    "language_info": {
      "codemirror_mode": {
        "name": "ipython",
        "version": 3
      },
      "file_extension": ".py",
      "mimetype": "text/x-python",
      "name": "python",
      "nbconvert_exporter": "python",
      "pygments_lexer": "ipython3",
      "version": "3.7.9"
    },
    "papermill": {
      "default_parameters": {},
      "duration": 8.391577,
      "end_time": "2021-03-09T05:42:44.214961",
      "environment_variables": {},
      "exception": null,
      "input_path": "__notebook__.ipynb",
      "output_path": "__notebook__.ipynb",
      "parameters": {},
      "start_time": "2021-03-09T05:42:35.823384",
      "version": "2.2.2"
    },
    "colab": {
      "name": "Copy of cmpe-255-assg-1.ipynb",
      "provenance": [],
      "collapsed_sections": []
    }
  },
  "cells": [
    {
      "cell_type": "code",
      "metadata": {
        "_cell_guid": "b1076dfc-b9ad-4769-8c92-a6c4dae69d19",
        "_uuid": "8f2839f25d086af736a60e9eeb907d3b93b6e0e5",
        "execution": {
          "iopub.execute_input": "2021-03-09T05:42:41.707493Z",
          "iopub.status.busy": "2021-03-09T05:42:41.706787Z",
          "iopub.status.idle": "2021-03-09T05:42:42.996099Z",
          "shell.execute_reply": "2021-03-09T05:42:42.995416Z"
        },
        "papermill": {
          "duration": 1.306012,
          "end_time": "2021-03-09T05:42:42.996307",
          "exception": false,
          "start_time": "2021-03-09T05:42:41.690295",
          "status": "completed"
        },
        "tags": [],
        "id": "3i6NUk34Mt8R"
      },
      "source": [
        "# This Python 3 environment comes with many helpful analytics libraries installed\n",
        "# It is defined by the kaggle/python Docker image: https://github.com/kaggle/docker-python\n",
        "# For example, here's several helpful packages to load\n",
        "\n",
        "import numpy as np # linear algebra\n",
        "import pandas as pd # data processing, CSV file I/O (e.g. pd.read_csv)\n",
        "from sklearn.linear_model import LinearRegression\n",
        "# Input data files are available in the read-only \"../input/\" directory\n",
        "# # For example, running this (by clicking run or pressing Shift+Enter) will list all files under the input directory\n",
        "\n",
        "# import os\n",
        "# for dirname, _, filenames in os.walk('/kaggle/input'):\n",
        "#     for filename in filenames:\n",
        "#         print(os.path.join(dirname, filename))\n",
        "\n",
        "# You can write up to 20GB to the current directory (/kaggle/working/) that gets preserved as output when you create a version using \"Save & Run All\" \n",
        "# You can also write temporary files to /kaggle/temp/, but they won't be saved outside of the current session"
      ],
      "execution_count": 2,
      "outputs": []
    },
    {
      "cell_type": "code",
      "metadata": {
        "execution": {
          "iopub.execute_input": "2021-03-09T05:42:43.022458Z",
          "iopub.status.busy": "2021-03-09T05:42:43.021311Z",
          "iopub.status.idle": "2021-03-09T05:42:43.081380Z",
          "shell.execute_reply": "2021-03-09T05:42:43.080795Z"
        },
        "papermill": {
          "duration": 0.075453,
          "end_time": "2021-03-09T05:42:43.081526",
          "exception": false,
          "start_time": "2021-03-09T05:42:43.006073",
          "status": "completed"
        },
        "tags": [],
        "id": "c2dcRS7gMt8W",
        "colab": {
          "base_uri": "https://localhost:8080/",
          "height": 204
        },
        "outputId": "948d1353-76b1-40d0-a371-52f162c9031c"
      },
      "source": [
        "name= ['CRIM', 'ZN', 'INDUS', 'CHAS', 'NOX', 'RM', 'AGE', 'DIS', 'RAD', 'TAX', 'PTRATIO', 'B', 'LSTAT', 'MEDV']\n",
        "file = \"housing.csv\"\n",
        "df=pd.read_csv(file,delim_whitespace=True,names=name)\n",
        "df.head()\n",
        "\n",
        "#     ZN: proportion of residential land zoned for lots over 25,000 sq.ft.\n",
        "#     INDUS: proportion of non-retail business acres per town\n",
        "#     CHAS: Charles River dummy variable (= 1 if tract bounds river; 0 otherwise)\n",
        "#     NOX: nitric oxides concentration (parts per 10 million)\n",
        "#     1https://archive.ics.uci.edu/ml/datasets/Housing\n",
        "#     123\n",
        "#     20.2. Load the Dataset 124\n",
        "#     RM: average number of rooms per dwelling\n",
        "#     AGE: proportion of owner-occupied units built prior to 1940\n",
        "#     DIS: weighted distances to ﬁve Boston employment centers\n",
        "#     RAD: index of accessibility to radial highways\n",
        "#     TAX: full-value property-tax rate per $10,000\n",
        "#     PTRATIO: pupil-teacher ratio by town \n",
        "#     12. B: 1000(Bk−0.63)2 where Bk is the proportion of blacks by town \n",
        "#     13. LSTAT: % lower status of the population\n",
        "#     MEDV: Median value of owner-occupied homes in $1000s\n",
        "#     We can see that the input attributes have a mixture of units.\n"
      ],
      "execution_count": 3,
      "outputs": [
        {
          "output_type": "execute_result",
          "data": {
            "text/html": [
              "<div>\n",
              "<style scoped>\n",
              "    .dataframe tbody tr th:only-of-type {\n",
              "        vertical-align: middle;\n",
              "    }\n",
              "\n",
              "    .dataframe tbody tr th {\n",
              "        vertical-align: top;\n",
              "    }\n",
              "\n",
              "    .dataframe thead th {\n",
              "        text-align: right;\n",
              "    }\n",
              "</style>\n",
              "<table border=\"1\" class=\"dataframe\">\n",
              "  <thead>\n",
              "    <tr style=\"text-align: right;\">\n",
              "      <th></th>\n",
              "      <th>CRIM</th>\n",
              "      <th>ZN</th>\n",
              "      <th>INDUS</th>\n",
              "      <th>CHAS</th>\n",
              "      <th>NOX</th>\n",
              "      <th>RM</th>\n",
              "      <th>AGE</th>\n",
              "      <th>DIS</th>\n",
              "      <th>RAD</th>\n",
              "      <th>TAX</th>\n",
              "      <th>PTRATIO</th>\n",
              "      <th>B</th>\n",
              "      <th>LSTAT</th>\n",
              "      <th>MEDV</th>\n",
              "    </tr>\n",
              "  </thead>\n",
              "  <tbody>\n",
              "    <tr>\n",
              "      <th>0</th>\n",
              "      <td>0.00632</td>\n",
              "      <td>18.0</td>\n",
              "      <td>2.31</td>\n",
              "      <td>0</td>\n",
              "      <td>0.538</td>\n",
              "      <td>6.575</td>\n",
              "      <td>65.2</td>\n",
              "      <td>4.0900</td>\n",
              "      <td>1</td>\n",
              "      <td>296.0</td>\n",
              "      <td>15.3</td>\n",
              "      <td>396.90</td>\n",
              "      <td>4.98</td>\n",
              "      <td>24.0</td>\n",
              "    </tr>\n",
              "    <tr>\n",
              "      <th>1</th>\n",
              "      <td>0.02731</td>\n",
              "      <td>0.0</td>\n",
              "      <td>7.07</td>\n",
              "      <td>0</td>\n",
              "      <td>0.469</td>\n",
              "      <td>6.421</td>\n",
              "      <td>78.9</td>\n",
              "      <td>4.9671</td>\n",
              "      <td>2</td>\n",
              "      <td>242.0</td>\n",
              "      <td>17.8</td>\n",
              "      <td>396.90</td>\n",
              "      <td>9.14</td>\n",
              "      <td>21.6</td>\n",
              "    </tr>\n",
              "    <tr>\n",
              "      <th>2</th>\n",
              "      <td>0.02729</td>\n",
              "      <td>0.0</td>\n",
              "      <td>7.07</td>\n",
              "      <td>0</td>\n",
              "      <td>0.469</td>\n",
              "      <td>7.185</td>\n",
              "      <td>61.1</td>\n",
              "      <td>4.9671</td>\n",
              "      <td>2</td>\n",
              "      <td>242.0</td>\n",
              "      <td>17.8</td>\n",
              "      <td>392.83</td>\n",
              "      <td>4.03</td>\n",
              "      <td>34.7</td>\n",
              "    </tr>\n",
              "    <tr>\n",
              "      <th>3</th>\n",
              "      <td>0.03237</td>\n",
              "      <td>0.0</td>\n",
              "      <td>2.18</td>\n",
              "      <td>0</td>\n",
              "      <td>0.458</td>\n",
              "      <td>6.998</td>\n",
              "      <td>45.8</td>\n",
              "      <td>6.0622</td>\n",
              "      <td>3</td>\n",
              "      <td>222.0</td>\n",
              "      <td>18.7</td>\n",
              "      <td>394.63</td>\n",
              "      <td>2.94</td>\n",
              "      <td>33.4</td>\n",
              "    </tr>\n",
              "    <tr>\n",
              "      <th>4</th>\n",
              "      <td>0.06905</td>\n",
              "      <td>0.0</td>\n",
              "      <td>2.18</td>\n",
              "      <td>0</td>\n",
              "      <td>0.458</td>\n",
              "      <td>7.147</td>\n",
              "      <td>54.2</td>\n",
              "      <td>6.0622</td>\n",
              "      <td>3</td>\n",
              "      <td>222.0</td>\n",
              "      <td>18.7</td>\n",
              "      <td>396.90</td>\n",
              "      <td>5.33</td>\n",
              "      <td>36.2</td>\n",
              "    </tr>\n",
              "  </tbody>\n",
              "</table>\n",
              "</div>"
            ],
            "text/plain": [
              "      CRIM    ZN  INDUS  CHAS    NOX  ...    TAX  PTRATIO       B  LSTAT  MEDV\n",
              "0  0.00632  18.0   2.31     0  0.538  ...  296.0     15.3  396.90   4.98  24.0\n",
              "1  0.02731   0.0   7.07     0  0.469  ...  242.0     17.8  396.90   9.14  21.6\n",
              "2  0.02729   0.0   7.07     0  0.469  ...  242.0     17.8  392.83   4.03  34.7\n",
              "3  0.03237   0.0   2.18     0  0.458  ...  222.0     18.7  394.63   2.94  33.4\n",
              "4  0.06905   0.0   2.18     0  0.458  ...  222.0     18.7  396.90   5.33  36.2\n",
              "\n",
              "[5 rows x 14 columns]"
            ]
          },
          "metadata": {
            "tags": []
          },
          "execution_count": 3
        }
      ]
    },
    {
      "cell_type": "code",
      "metadata": {
        "execution": {
          "iopub.execute_input": "2021-03-09T05:42:43.121971Z",
          "iopub.status.busy": "2021-03-09T05:42:43.121108Z",
          "iopub.status.idle": "2021-03-09T05:42:43.124566Z",
          "shell.execute_reply": "2021-03-09T05:42:43.125183Z"
        },
        "papermill": {
          "duration": 0.033781,
          "end_time": "2021-03-09T05:42:43.125360",
          "exception": false,
          "start_time": "2021-03-09T05:42:43.091579",
          "status": "completed"
        },
        "tags": [],
        "id": "ge3aPzE6Mt8W",
        "colab": {
          "base_uri": "https://localhost:8080/"
        },
        "outputId": "fe704940-7131-4051-8775-3b815a9748d8"
      },
      "source": [
        "row,col=df.shape\n",
        "print(f\"Table has {row}rows and {col} columns\" )\n",
        "df.info()"
      ],
      "execution_count": 14,
      "outputs": [
        {
          "output_type": "stream",
          "text": [
            "Table has 506rows and 14 columns\n",
            "<class 'pandas.core.frame.DataFrame'>\n",
            "RangeIndex: 506 entries, 0 to 505\n",
            "Data columns (total 14 columns):\n",
            " #   Column   Non-Null Count  Dtype  \n",
            "---  ------   --------------  -----  \n",
            " 0   CRIM     506 non-null    float64\n",
            " 1   ZN       506 non-null    float64\n",
            " 2   INDUS    506 non-null    float64\n",
            " 3   CHAS     506 non-null    int64  \n",
            " 4   NOX      506 non-null    float64\n",
            " 5   RM       506 non-null    float64\n",
            " 6   AGE      506 non-null    float64\n",
            " 7   DIS      506 non-null    float64\n",
            " 8   RAD      506 non-null    int64  \n",
            " 9   TAX      506 non-null    float64\n",
            " 10  PTRATIO  506 non-null    float64\n",
            " 11  B        506 non-null    float64\n",
            " 12  LSTAT    506 non-null    float64\n",
            " 13  MEDV     506 non-null    float64\n",
            "dtypes: float64(12), int64(2)\n",
            "memory usage: 55.5 KB\n"
          ],
          "name": "stdout"
        }
      ]
    },
    {
      "cell_type": "code",
      "metadata": {
        "execution": {
          "iopub.execute_input": "2021-03-09T05:42:43.174017Z",
          "iopub.status.busy": "2021-03-09T05:42:43.152677Z",
          "iopub.status.idle": "2021-03-09T05:42:43.180137Z",
          "shell.execute_reply": "2021-03-09T05:42:43.179402Z"
        },
        "papermill": {
          "duration": 0.044041,
          "end_time": "2021-03-09T05:42:43.180288",
          "exception": false,
          "start_time": "2021-03-09T05:42:43.136247",
          "status": "completed"
        },
        "tags": [],
        "id": "ccz6MFyEMt8X",
        "colab": {
          "base_uri": "https://localhost:8080/",
          "height": 503
        },
        "outputId": "474827b6-fe54-4aab-fe35-2ffe49de3f2f"
      },
      "source": [
        "df.corr()"
      ],
      "execution_count": 5,
      "outputs": [
        {
          "output_type": "execute_result",
          "data": {
            "text/html": [
              "<div>\n",
              "<style scoped>\n",
              "    .dataframe tbody tr th:only-of-type {\n",
              "        vertical-align: middle;\n",
              "    }\n",
              "\n",
              "    .dataframe tbody tr th {\n",
              "        vertical-align: top;\n",
              "    }\n",
              "\n",
              "    .dataframe thead th {\n",
              "        text-align: right;\n",
              "    }\n",
              "</style>\n",
              "<table border=\"1\" class=\"dataframe\">\n",
              "  <thead>\n",
              "    <tr style=\"text-align: right;\">\n",
              "      <th></th>\n",
              "      <th>CRIM</th>\n",
              "      <th>ZN</th>\n",
              "      <th>INDUS</th>\n",
              "      <th>CHAS</th>\n",
              "      <th>NOX</th>\n",
              "      <th>RM</th>\n",
              "      <th>AGE</th>\n",
              "      <th>DIS</th>\n",
              "      <th>RAD</th>\n",
              "      <th>TAX</th>\n",
              "      <th>PTRATIO</th>\n",
              "      <th>B</th>\n",
              "      <th>LSTAT</th>\n",
              "      <th>MEDV</th>\n",
              "    </tr>\n",
              "  </thead>\n",
              "  <tbody>\n",
              "    <tr>\n",
              "      <th>CRIM</th>\n",
              "      <td>1.000000</td>\n",
              "      <td>-0.200469</td>\n",
              "      <td>0.406583</td>\n",
              "      <td>-0.055892</td>\n",
              "      <td>0.420972</td>\n",
              "      <td>-0.219247</td>\n",
              "      <td>0.352734</td>\n",
              "      <td>-0.379670</td>\n",
              "      <td>0.625505</td>\n",
              "      <td>0.582764</td>\n",
              "      <td>0.289946</td>\n",
              "      <td>-0.385064</td>\n",
              "      <td>0.455621</td>\n",
              "      <td>-0.388305</td>\n",
              "    </tr>\n",
              "    <tr>\n",
              "      <th>ZN</th>\n",
              "      <td>-0.200469</td>\n",
              "      <td>1.000000</td>\n",
              "      <td>-0.533828</td>\n",
              "      <td>-0.042697</td>\n",
              "      <td>-0.516604</td>\n",
              "      <td>0.311991</td>\n",
              "      <td>-0.569537</td>\n",
              "      <td>0.664408</td>\n",
              "      <td>-0.311948</td>\n",
              "      <td>-0.314563</td>\n",
              "      <td>-0.391679</td>\n",
              "      <td>0.175520</td>\n",
              "      <td>-0.412995</td>\n",
              "      <td>0.360445</td>\n",
              "    </tr>\n",
              "    <tr>\n",
              "      <th>INDUS</th>\n",
              "      <td>0.406583</td>\n",
              "      <td>-0.533828</td>\n",
              "      <td>1.000000</td>\n",
              "      <td>0.062938</td>\n",
              "      <td>0.763651</td>\n",
              "      <td>-0.391676</td>\n",
              "      <td>0.644779</td>\n",
              "      <td>-0.708027</td>\n",
              "      <td>0.595129</td>\n",
              "      <td>0.720760</td>\n",
              "      <td>0.383248</td>\n",
              "      <td>-0.356977</td>\n",
              "      <td>0.603800</td>\n",
              "      <td>-0.483725</td>\n",
              "    </tr>\n",
              "    <tr>\n",
              "      <th>CHAS</th>\n",
              "      <td>-0.055892</td>\n",
              "      <td>-0.042697</td>\n",
              "      <td>0.062938</td>\n",
              "      <td>1.000000</td>\n",
              "      <td>0.091203</td>\n",
              "      <td>0.091251</td>\n",
              "      <td>0.086518</td>\n",
              "      <td>-0.099176</td>\n",
              "      <td>-0.007368</td>\n",
              "      <td>-0.035587</td>\n",
              "      <td>-0.121515</td>\n",
              "      <td>0.048788</td>\n",
              "      <td>-0.053929</td>\n",
              "      <td>0.175260</td>\n",
              "    </tr>\n",
              "    <tr>\n",
              "      <th>NOX</th>\n",
              "      <td>0.420972</td>\n",
              "      <td>-0.516604</td>\n",
              "      <td>0.763651</td>\n",
              "      <td>0.091203</td>\n",
              "      <td>1.000000</td>\n",
              "      <td>-0.302188</td>\n",
              "      <td>0.731470</td>\n",
              "      <td>-0.769230</td>\n",
              "      <td>0.611441</td>\n",
              "      <td>0.668023</td>\n",
              "      <td>0.188933</td>\n",
              "      <td>-0.380051</td>\n",
              "      <td>0.590879</td>\n",
              "      <td>-0.427321</td>\n",
              "    </tr>\n",
              "    <tr>\n",
              "      <th>RM</th>\n",
              "      <td>-0.219247</td>\n",
              "      <td>0.311991</td>\n",
              "      <td>-0.391676</td>\n",
              "      <td>0.091251</td>\n",
              "      <td>-0.302188</td>\n",
              "      <td>1.000000</td>\n",
              "      <td>-0.240265</td>\n",
              "      <td>0.205246</td>\n",
              "      <td>-0.209847</td>\n",
              "      <td>-0.292048</td>\n",
              "      <td>-0.355501</td>\n",
              "      <td>0.128069</td>\n",
              "      <td>-0.613808</td>\n",
              "      <td>0.695360</td>\n",
              "    </tr>\n",
              "    <tr>\n",
              "      <th>AGE</th>\n",
              "      <td>0.352734</td>\n",
              "      <td>-0.569537</td>\n",
              "      <td>0.644779</td>\n",
              "      <td>0.086518</td>\n",
              "      <td>0.731470</td>\n",
              "      <td>-0.240265</td>\n",
              "      <td>1.000000</td>\n",
              "      <td>-0.747881</td>\n",
              "      <td>0.456022</td>\n",
              "      <td>0.506456</td>\n",
              "      <td>0.261515</td>\n",
              "      <td>-0.273534</td>\n",
              "      <td>0.602339</td>\n",
              "      <td>-0.376955</td>\n",
              "    </tr>\n",
              "    <tr>\n",
              "      <th>DIS</th>\n",
              "      <td>-0.379670</td>\n",
              "      <td>0.664408</td>\n",
              "      <td>-0.708027</td>\n",
              "      <td>-0.099176</td>\n",
              "      <td>-0.769230</td>\n",
              "      <td>0.205246</td>\n",
              "      <td>-0.747881</td>\n",
              "      <td>1.000000</td>\n",
              "      <td>-0.494588</td>\n",
              "      <td>-0.534432</td>\n",
              "      <td>-0.232471</td>\n",
              "      <td>0.291512</td>\n",
              "      <td>-0.496996</td>\n",
              "      <td>0.249929</td>\n",
              "    </tr>\n",
              "    <tr>\n",
              "      <th>RAD</th>\n",
              "      <td>0.625505</td>\n",
              "      <td>-0.311948</td>\n",
              "      <td>0.595129</td>\n",
              "      <td>-0.007368</td>\n",
              "      <td>0.611441</td>\n",
              "      <td>-0.209847</td>\n",
              "      <td>0.456022</td>\n",
              "      <td>-0.494588</td>\n",
              "      <td>1.000000</td>\n",
              "      <td>0.910228</td>\n",
              "      <td>0.464741</td>\n",
              "      <td>-0.444413</td>\n",
              "      <td>0.488676</td>\n",
              "      <td>-0.381626</td>\n",
              "    </tr>\n",
              "    <tr>\n",
              "      <th>TAX</th>\n",
              "      <td>0.582764</td>\n",
              "      <td>-0.314563</td>\n",
              "      <td>0.720760</td>\n",
              "      <td>-0.035587</td>\n",
              "      <td>0.668023</td>\n",
              "      <td>-0.292048</td>\n",
              "      <td>0.506456</td>\n",
              "      <td>-0.534432</td>\n",
              "      <td>0.910228</td>\n",
              "      <td>1.000000</td>\n",
              "      <td>0.460853</td>\n",
              "      <td>-0.441808</td>\n",
              "      <td>0.543993</td>\n",
              "      <td>-0.468536</td>\n",
              "    </tr>\n",
              "    <tr>\n",
              "      <th>PTRATIO</th>\n",
              "      <td>0.289946</td>\n",
              "      <td>-0.391679</td>\n",
              "      <td>0.383248</td>\n",
              "      <td>-0.121515</td>\n",
              "      <td>0.188933</td>\n",
              "      <td>-0.355501</td>\n",
              "      <td>0.261515</td>\n",
              "      <td>-0.232471</td>\n",
              "      <td>0.464741</td>\n",
              "      <td>0.460853</td>\n",
              "      <td>1.000000</td>\n",
              "      <td>-0.177383</td>\n",
              "      <td>0.374044</td>\n",
              "      <td>-0.507787</td>\n",
              "    </tr>\n",
              "    <tr>\n",
              "      <th>B</th>\n",
              "      <td>-0.385064</td>\n",
              "      <td>0.175520</td>\n",
              "      <td>-0.356977</td>\n",
              "      <td>0.048788</td>\n",
              "      <td>-0.380051</td>\n",
              "      <td>0.128069</td>\n",
              "      <td>-0.273534</td>\n",
              "      <td>0.291512</td>\n",
              "      <td>-0.444413</td>\n",
              "      <td>-0.441808</td>\n",
              "      <td>-0.177383</td>\n",
              "      <td>1.000000</td>\n",
              "      <td>-0.366087</td>\n",
              "      <td>0.333461</td>\n",
              "    </tr>\n",
              "    <tr>\n",
              "      <th>LSTAT</th>\n",
              "      <td>0.455621</td>\n",
              "      <td>-0.412995</td>\n",
              "      <td>0.603800</td>\n",
              "      <td>-0.053929</td>\n",
              "      <td>0.590879</td>\n",
              "      <td>-0.613808</td>\n",
              "      <td>0.602339</td>\n",
              "      <td>-0.496996</td>\n",
              "      <td>0.488676</td>\n",
              "      <td>0.543993</td>\n",
              "      <td>0.374044</td>\n",
              "      <td>-0.366087</td>\n",
              "      <td>1.000000</td>\n",
              "      <td>-0.737663</td>\n",
              "    </tr>\n",
              "    <tr>\n",
              "      <th>MEDV</th>\n",
              "      <td>-0.388305</td>\n",
              "      <td>0.360445</td>\n",
              "      <td>-0.483725</td>\n",
              "      <td>0.175260</td>\n",
              "      <td>-0.427321</td>\n",
              "      <td>0.695360</td>\n",
              "      <td>-0.376955</td>\n",
              "      <td>0.249929</td>\n",
              "      <td>-0.381626</td>\n",
              "      <td>-0.468536</td>\n",
              "      <td>-0.507787</td>\n",
              "      <td>0.333461</td>\n",
              "      <td>-0.737663</td>\n",
              "      <td>1.000000</td>\n",
              "    </tr>\n",
              "  </tbody>\n",
              "</table>\n",
              "</div>"
            ],
            "text/plain": [
              "             CRIM        ZN     INDUS  ...         B     LSTAT      MEDV\n",
              "CRIM     1.000000 -0.200469  0.406583  ... -0.385064  0.455621 -0.388305\n",
              "ZN      -0.200469  1.000000 -0.533828  ...  0.175520 -0.412995  0.360445\n",
              "INDUS    0.406583 -0.533828  1.000000  ... -0.356977  0.603800 -0.483725\n",
              "CHAS    -0.055892 -0.042697  0.062938  ...  0.048788 -0.053929  0.175260\n",
              "NOX      0.420972 -0.516604  0.763651  ... -0.380051  0.590879 -0.427321\n",
              "RM      -0.219247  0.311991 -0.391676  ...  0.128069 -0.613808  0.695360\n",
              "AGE      0.352734 -0.569537  0.644779  ... -0.273534  0.602339 -0.376955\n",
              "DIS     -0.379670  0.664408 -0.708027  ...  0.291512 -0.496996  0.249929\n",
              "RAD      0.625505 -0.311948  0.595129  ... -0.444413  0.488676 -0.381626\n",
              "TAX      0.582764 -0.314563  0.720760  ... -0.441808  0.543993 -0.468536\n",
              "PTRATIO  0.289946 -0.391679  0.383248  ... -0.177383  0.374044 -0.507787\n",
              "B       -0.385064  0.175520 -0.356977  ...  1.000000 -0.366087  0.333461\n",
              "LSTAT    0.455621 -0.412995  0.603800  ... -0.366087  1.000000 -0.737663\n",
              "MEDV    -0.388305  0.360445 -0.483725  ...  0.333461 -0.737663  1.000000\n",
              "\n",
              "[14 rows x 14 columns]"
            ]
          },
          "metadata": {
            "tags": []
          },
          "execution_count": 5
        }
      ]
    },
    {
      "cell_type": "code",
      "metadata": {
        "execution": {
          "iopub.execute_input": "2021-03-09T05:42:43.209815Z",
          "iopub.status.busy": "2021-03-09T05:42:43.209149Z",
          "iopub.status.idle": "2021-03-09T05:42:43.276158Z",
          "shell.execute_reply": "2021-03-09T05:42:43.275561Z"
        },
        "papermill": {
          "duration": 0.083863,
          "end_time": "2021-03-09T05:42:43.276315",
          "exception": false,
          "start_time": "2021-03-09T05:42:43.192452",
          "status": "completed"
        },
        "tags": [],
        "id": "N0-4IpSAMt8X",
        "colab": {
          "base_uri": "https://localhost:8080/"
        },
        "outputId": "d65a08f8-d931-4d2c-dbfd-f4e6ac08e20c"
      },
      "source": [
        "#Using \n",
        "from sklearn.linear_model import LinearRegression\n",
        "\n",
        "df.describe()\n",
        "x = df[['LSTAT']].to_numpy()\n",
        "y = df[['MEDV']].to_numpy()\n",
        "\n",
        "# print(x.shape)\n",
        "# print(y.shape)"
      ],
      "execution_count": 6,
      "outputs": [
        {
          "output_type": "stream",
          "text": [
            "(506, 1)\n",
            "(506, 1)\n"
          ],
          "name": "stdout"
        }
      ]
    },
    {
      "cell_type": "code",
      "metadata": {
        "execution": {
          "iopub.execute_input": "2021-03-09T05:42:43.318643Z",
          "iopub.status.busy": "2021-03-09T05:42:43.317604Z",
          "iopub.status.idle": "2021-03-09T05:42:43.322096Z",
          "shell.execute_reply": "2021-03-09T05:42:43.322644Z"
        },
        "papermill": {
          "duration": 0.034489,
          "end_time": "2021-03-09T05:42:43.322822",
          "exception": false,
          "start_time": "2021-03-09T05:42:43.288333",
          "status": "completed"
        },
        "tags": [],
        "id": "z9q_HvguMt8X",
        "colab": {
          "base_uri": "https://localhost:8080/",
          "height": 350
        },
        "outputId": "e5d844d8-f636-4836-bc8a-cb1616f1df6d"
      },
      "source": [
        "from sklearn.preprocessing import StandardScaler\n",
        "scaler = StandardScaler()\n",
        "scaler.fit(x)\n",
        "#y=scaler.fit(y)\n",
        "x=scaler.transform(x)\n",
        "from sklearn.model_selection import train_test_split\n",
        "x_train, x_test, y_train, y_test = train_test_split(x,y,test_size=0.2,random_state = 22)\n",
        "model = LinearRegression()\n",
        "model.fit(x_train, y_train)\n",
        "from sklearn.metrics import mean_squared_error, r2_score \n",
        "prediction=model.predict(x_test)\n",
        "Rsquared = r2_score(y_test, prediction)\n",
        "RMSE = np.sqrt(mean_squared_error(y_test, prediction))\n",
        "print(\"Linear Regression\")\n",
        "print(\"RMSE:\",RMSE)\n",
        "print(\"R^2: \",Rsquared)\n",
        "# print(x_train.shape)\n",
        "# print(y_train.shape)\n",
        "import matplotlib.pyplot as plt\n",
        "plt.scatter(x_train,y_train)\n",
        "plt.plot(x_train,model.predict(x_train))"
      ],
      "execution_count": 18,
      "outputs": [
        {
          "output_type": "stream",
          "text": [
            "Linear Regression\n",
            "RMSE: 6.558372421381305\n",
            "R^2:  0.5149044976402835\n",
            "(404, 1)\n"
          ],
          "name": "stdout"
        },
        {
          "output_type": "execute_result",
          "data": {
            "text/plain": [
              "[<matplotlib.lines.Line2D at 0x7f71ff68d290>]"
            ]
          },
          "metadata": {
            "tags": []
          },
          "execution_count": 18
        },
        {
          "output_type": "display_data",
          "data": {
            "image/png": "[encoded data removed]",
            "text/plain": [
              "<Figure size 432x288 with 1 Axes>"
            ]
          },
          "metadata": {
            "tags": [],
            "needs_background": "light"
          }
        }
      ]
    },
    {
      "cell_type": "code",
      "metadata": {
        "execution": {
          "iopub.execute_input": "2021-03-09T05:42:43.403514Z",
          "iopub.status.busy": "2021-03-09T05:42:43.402527Z",
          "iopub.status.idle": "2021-03-09T05:42:43.420791Z",
          "shell.execute_reply": "2021-03-09T05:42:43.420155Z"
        },
        "papermill": {
          "duration": 0.038178,
          "end_time": "2021-03-09T05:42:43.420953",
          "exception": false,
          "start_time": "2021-03-09T05:42:43.382775",
          "status": "completed"
        },
        "tags": [],
        "id": "YoeYQCmeMt8X",
        "colab": {
          "base_uri": "https://localhost:8080/",
          "height": 315
        },
        "outputId": "78689e2b-9871-452a-a52f-df60c1455648"
      },
      "source": [
        "from sklearn.preprocessing import PolynomialFeatures\n",
        "from sklearn.pipeline import make_pipeline\n",
        "polynomial = PolynomialFeatures(degree=2)\n",
        "model_2 = make_pipeline(polynomial,model)\n",
        "model_2.fit(x_train,y_train)\n",
        "prediction_2=model_2.predict(x_test)\n",
        "Rsquared = r2_score(y_test, prediction_2)\n",
        "RMSER = np.sqrt(mean_squared_error(y_test, prediction_2))\n",
        "print(\"Polynomial Regression\")\n",
        "print(\"RMSE:\",RMSE)\n",
        "print(\"R^2: \",Rsquared)\n",
        "plt.figure()\n",
        "plt.scatter(x_train,y_train,s=15)\n",
        "plt.plot(x_train,model_2.predict(x_train),color=\"r\")\n",
        "plt.title(\"Polynomial regression with degree \"+str(2))\n",
        "plt.show()"
      ],
      "execution_count": 10,
      "outputs": [
        {
          "output_type": "stream",
          "text": [
            "RMSE: 6.558372421381304\n",
            "R^2:  0.5857844942953512\n"
          ],
          "name": "stdout"
        },
        {
          "output_type": "display_data",
          "data": {
            "image/png": "[encoded data removed]",
            "text/plain": [
              "<Figure size 432x288 with 1 Axes>"
            ]
          },
          "metadata": {
            "tags": [],
            "needs_background": "light"
          }
        }
      ]
    },
    {
      "cell_type": "code",
      "metadata": {
        "execution": {
          "iopub.execute_input": "2021-03-09T05:42:43.468597Z",
          "iopub.status.busy": "2021-03-09T05:42:43.467825Z",
          "iopub.status.idle": "2021-03-09T05:42:43.471627Z",
          "shell.execute_reply": "2021-03-09T05:42:43.472212Z"
        },
        "papermill": {
          "duration": 0.036432,
          "end_time": "2021-03-09T05:42:43.472402",
          "exception": false,
          "start_time": "2021-03-09T05:42:43.435970",
          "status": "completed"
        },
        "tags": [],
        "id": "gzh8kJcnMt8Y",
        "colab": {
          "base_uri": "https://localhost:8080/",
          "height": 315
        },
        "outputId": "f5108062-35e6-4317-e373-21cef3d3d72e"
      },
      "source": [
        "from sklearn.preprocessing import PolynomialFeatures\n",
        "from sklearn.pipeline import make_pipeline\n",
        "polynomial = PolynomialFeatures(degree=20)\n",
        "model_2 = make_pipeline(polynomial,model)\n",
        "model_2.fit(x_train,y_train)\n",
        "prediction_2=model_2.predict(x_test)\n",
        "Rsquared = r2_score(y_test, prediction_2)\n",
        "RMSE = np.sqrt(mean_squared_error(y_test, prediction_2))\n",
        "print(\"polynomial with 20 degree\")\n",
        "print(\"RMSE:\",RMSE)\n",
        "print(\"R^2: \",Rsquared)\n",
        "plt.figure()\n",
        "plt.scatter(x_train,y_train,s=15)\n",
        "plt.plot(x_train,model_2.predict(x_train),color=\"r\")\n",
        "plt.title(\"Polynomial regression with degree 20 \"+str(2))\n",
        "plt.show()"
      ],
      "execution_count": 11,
      "outputs": [
        {
          "output_type": "stream",
          "text": [
            "RMSE: 5.701888359028291\n",
            "R^2:  0.6333324151139389\n"
          ],
          "name": "stdout"
        },
        {
          "output_type": "display_data",
          "data": {
            "image/png": "[encoded data removed]",
            "text/plain": [
              "<Figure size 432x288 with 1 Axes>"
            ]
          },
          "metadata": {
            "tags": [],
            "needs_background": "light"
          }
        }
      ]
    },
    {
      "cell_type": "code",
      "metadata": {
        "execution": {
          "iopub.execute_input": "2021-03-09T05:42:43.502916Z",
          "iopub.status.busy": "2021-03-09T05:42:43.502314Z",
          "iopub.status.idle": "2021-03-09T05:42:43.508185Z",
          "shell.execute_reply": "2021-03-09T05:42:43.508700Z"
        },
        "papermill": {
          "duration": 0.022754,
          "end_time": "2021-03-09T05:42:43.508874",
          "exception": false,
          "start_time": "2021-03-09T05:42:43.486120",
          "status": "completed"
        },
        "tags": [],
        "id": "eRp7o40JMt8Y"
      },
      "source": [
        "x2 = df[['LSTAT','RM',\"PTRATIO\"]].to_numpy()\n",
        "y2 = df[['MEDV']].to_numpy()\n"
      ],
      "execution_count": 12,
      "outputs": []
    },
    {
      "cell_type": "code",
      "metadata": {
        "execution": {
          "iopub.execute_input": "2021-03-09T05:42:43.540230Z",
          "iopub.status.busy": "2021-03-09T05:42:43.539508Z",
          "iopub.status.idle": "2021-03-09T05:42:43.560544Z",
          "shell.execute_reply": "2021-03-09T05:42:43.561182Z"
        },
        "papermill": {
          "duration": 0.038538,
          "end_time": "2021-03-09T05:42:43.561372",
          "exception": false,
          "start_time": "2021-03-09T05:42:43.522834",
          "status": "completed"
        },
        "tags": [],
        "id": "DzDoIlxUMt8Y",
        "colab": {
          "base_uri": "https://localhost:8080/"
        },
        "outputId": "7f85192c-263b-45d4-b269-650224644b09"
      },
      "source": [
        "from sklearn.preprocessing import StandardScaler\n",
        "scaler = StandardScaler()\n",
        "scaler.fit(x2)\n",
        "#y=scaler.fit(y)\n",
        "x2=scaler.transform(x2)\n",
        "from sklearn.model_selection import train_test_split\n",
        "x_train, x_test, y_train, y_test = train_test_split(x2,y,test_size=0.2,random_state = 22)\n",
        "model = LinearRegression()\n",
        "model.fit(x_train, y_train)\n",
        "from sklearn.metrics import mean_squared_error, r2_score \n",
        "prediction=model.predict(x_test)\n",
        "Rsquared  = r2_score(y_test, prediction)\n",
        "RMSE = np.sqrt(mean_squared_error(y_test, prediction))\n",
        "adjusted_r_squared = 1 - (1-Rsquared)*(len(y_test)-1)/(len(y_test)-x_test.shape[1]-1)\n",
        "#Adjusted R Squared = 1 – [((1 – R2) * (n – 1)) / (n – k – 1)]\n",
        "print(\"Multiple Features 'LSTAT','RM','PTRATIO'\")\n",
        "print(\"RMSE:\",RMSE)\n",
        "print(\"adjusted R Squared\",adjusted_r_squared)\n",
        "print(\"R^2: \",Rsquared)\n",
        "# print(x_train.shape)\n",
        "# print(y_train.shape)"
      ],
      "execution_count": 17,
      "outputs": [
        {
          "output_type": "stream",
          "text": [
            "RMSE: 4.974434993788515\n",
            "adjusted R Squared 0.7123807719300752\n",
            "R^2:  0.7209239173182909\n"
          ],
          "name": "stdout"
        }
      ]
    },
    {
      "cell_type": "code",
      "metadata": {
        "papermill": {
          "duration": 0.014151,
          "end_time": "2021-03-09T05:42:43.590808",
          "exception": false,
          "start_time": "2021-03-09T05:42:43.576657",
          "status": "completed"
        },
        "tags": [],
        "id": "vh1vEQ81Mt8Y"
      },
      "source": [
        ""
      ],
      "execution_count": null,
      "outputs": []
    }
  ]
}